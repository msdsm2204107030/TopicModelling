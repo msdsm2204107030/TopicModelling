{
 "cells": [
  {
   "cell_type": "code",
   "execution_count": null,
   "metadata": {},
   "outputs": [],
   "source": [
    "import gradio as gr\n",
    "from bert_predict import predict_topics"
   ]
  },
  {
   "cell_type": "code",
   "execution_count": null,
   "metadata": {},
   "outputs": [],
   "source": [
    "def wrapper_func(tokyo_tweet):\n",
    "    result = predict_topics(tokyo_tweet)\n",
    "    # return result.numberOfTopics, result.Topic1, result.Topic2, result.Topic3, result.probability\n",
    "    return result.Topic1\n",
    "\n",
    "iface = gr.Interface(\n",
    "    fn=wrapper_func, \n",
    "    inputs=\"text\", \n",
    "    outputs=[\"text\"]\n",
    ")\n",
    "\n",
    "iface.launch()"
   ]
  }
 ],
 "metadata": {
  "kernelspec": {
   "display_name": "base",
   "language": "python",
   "name": "python3"
  },
  "language_info": {
   "codemirror_mode": {
    "name": "ipython",
    "version": 3
   },
   "file_extension": ".py",
   "mimetype": "text/x-python",
   "name": "python",
   "nbconvert_exporter": "python",
   "pygments_lexer": "ipython3",
   "version": "3.11.5"
  }
 },
 "nbformat": 4,
 "nbformat_minor": 2
}
